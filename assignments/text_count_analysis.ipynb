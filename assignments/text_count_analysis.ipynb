{
 "cells": [
  {
   "cell_type": "markdown",
   "id": "ea19ceca",
   "metadata": {},
   "source": [
    "# Assignment: Text Count Analysis"
   ]
  },
  {
   "cell_type": "markdown",
   "id": "6d693662",
   "metadata": {},
   "source": [
    "This exercise asks you to combine the Python skills you have learned into a single application. We will start with a paragraph of text and end up with a frequency count of the distinct words in that text.\n",
    "\n",
    "It includes the following steps:\n",
    "\n",
    "1. Convert a string to lowercase characters.\n",
    "2. Split the lowercase string into individual words.\n",
    "3. Count the number of words in the lowercase string.\n",
    "4. Determine the number of distinct words in the lowercase string.\n",
    "5. Calculate the number of times each word appears in the lowercase string.\n",
    "6. Remove the punctuation from the lowercase string.\n",
    "7. Perform a count analysis on the text without punctuation characters.\n",
    "\n",
    "Complete each step individually, moving to the next step only after the current step works as expected. Because later steps depend on variables created in earlier steps, you may need to run all steps up to the current step before running the code in the current step. Jupyter Notebook includes a Run All Above command in the Cell menu that will allow you to run all previous steps, making the earlier variables available to the current cell."
   ]
  },
  {
   "cell_type": "markdown",
   "id": "859024cd",
   "metadata": {},
   "source": [
    "# Step 1: Normalize the Letter Casing"
   ]
  },
  {
   "cell_type": "markdown",
   "id": "e20085be",
   "metadata": {},
   "source": [
    "Because all content in Python is case-sensitive, we start by normalizing the case so that all characters are in the same case.\n",
    "\n",
    "Here, we start with a string of text taken from E. Abbott's 1884 novel, Flatland. Convert the existing text to lowercase characters, stored in a variable named s_lower.\n",
    "\n",
    "The output should look like:"
   ]
  },
  {
   "cell_type": "markdown",
   "id": "c636d631",
   "metadata": {},
   "source": [
    "s = \"\"\"Imagine a vast sheet of paper on which straight Lines, Triangles, Squares, Pentagons, Hexagons, and other figures, instead of remaining fixed in their places, move freely about, on or in the surface, but without the power of rising above or sinking below it, very much like shadows - only hard and with luminous edges - and you will then have a pretty correct notion of my country and countrymen. Alas, a few years ago, I should have said \"my universe\": but now my mind has been opened to higher views of things.\"\"\""
   ]
  },
  {
   "cell_type": "code",
   "execution_count": 15,
   "id": "267b4b3e",
   "metadata": {},
   "outputs": [],
   "source": [
    "s = \"\"\"Imagine a vast sheet of paper on which straight Lines, Triangles, Squares, Pentagons, Hexagons, and other figures, instead of remaining fixed in their places, move freely about, on or in the surface, but without the power of rising above or sinking below it, very much like shadows - only hard and with luminous edges - and you will then have a pretty correct notion of my country and countrymen. Alas, a few years ago, I should have said \"my universe\": but now my mind has been opened to higher views of things.\"\"\""
   ]
  },
  {
   "cell_type": "code",
   "execution_count": 8,
   "id": "2026d48e",
   "metadata": {},
   "outputs": [
    {
     "name": "stdout",
     "output_type": "stream",
     "text": [
      "imagine a vast sheet of paper on which straight lines, triangles, squares, pentagons, hexagons, and other figures, instead of remaining fixed in their places, move freely about, on or in the surface, but without the power of rising above or sinking below it, very much like shadows - only hard and with luminous edges - and you will then have a pretty correct notion of my country and countrymen. alas, a few years ago, i should have said \"my universe\": but now my mind has been opened to higher views of things.\n"
     ]
    }
   ],
   "source": [
    "#do not change any code above this line\n",
    "#your code here\n",
    "s_lower = s\n",
    "\n",
    "# convert message to lowercase\n",
    "print(s_lower.lower())"
   ]
  },
  {
   "cell_type": "markdown",
   "id": "ee5d8296",
   "metadata": {},
   "source": [
    "# Step 2"
   ]
  },
  {
   "cell_type": "markdown",
   "id": "ae7edf0e",
   "metadata": {},
   "source": [
    "Using the str.split() method, divide the s_lower string into separate words. The output should be a list of strings.\n",
    "\n",
    "Store the results in a list called words.\n",
    "\n",
    "Printing the list should look like:\n",
    "\n",
    "['imagine', 'a', 'vast', 'sheet', 'of', 'paper', 'on', 'which', 'straight', 'lines,', 'triangles,', 'squares,', 'pentagons,', 'hexagons,', 'and', 'other', 'figures,', 'instead', 'of', 'remaining', 'fixed', 'in', 'their', 'places,', 'move', 'freely', 'about,', 'on', 'or', 'in', 'the', 'surface,', 'but', 'without', 'the', 'power', 'of', 'rising', 'above', 'or', 'sinking', 'below', 'it,', 'very', 'much', 'like', 'shadows', '—', 'only', 'hard', 'and', 'with', 'luminous', 'edges', '—', 'and', 'you', 'will', 'then', 'have', 'a', 'pretty', 'correct', 'notion', 'of', 'my', 'country', 'and', 'countrymen.', 'alas,', 'a', 'few', 'years', 'ago,', 'i', 'should', 'have', 'said', '\"my', 'universe\":', 'but', 'now', 'my', 'mind', 'has', 'been', 'opened', 'to', 'higher', 'views', 'of', 'things.']"
   ]
  },
  {
   "cell_type": "code",
   "execution_count": 10,
   "id": "1c107325",
   "metadata": {},
   "outputs": [
    {
     "name": "stdout",
     "output_type": "stream",
     "text": [
      "['Imagine', 'a', 'vast', 'sheet', 'of', 'paper', 'on', 'which', 'straight', 'Lines,', 'Triangles,', 'Squares,', 'Pentagons,', 'Hexagons,', 'and', 'other', 'figures,', 'instead', 'of', 'remaining', 'fixed', 'in', 'their', 'places,', 'move', 'freely', 'about,', 'on', 'or', 'in', 'the', 'surface,', 'but', 'without', 'the', 'power', 'of', 'rising', 'above', 'or', 'sinking', 'below', 'it,', 'very', 'much', 'like', 'shadows', '-', 'only', 'hard', 'and', 'with', 'luminous', 'edges', '-', 'and', 'you', 'will', 'then', 'have', 'a', 'pretty', 'correct', 'notion', 'of', 'my', 'country', 'and', 'countrymen.', 'Alas,', 'a', 'few', 'years', 'ago,', 'I', 'should', 'have', 'said', '\"my', 'universe\":', 'but', 'now', 'my', 'mind', 'has', 'been', 'opened', 'to', 'higher', 'views', 'of', 'things.']\n"
     ]
    }
   ],
   "source": [
    "words = list() #do not delete. this list must contain the list of words. \n",
    " \n",
    "#your code goes here\n",
    "words = s_lower.split()\n",
    " \n",
    "print(words) #do not delete \n",
    "#do not write any code past here"
   ]
  },
  {
   "cell_type": "markdown",
   "id": "039bac9d",
   "metadata": {},
   "source": [
    "# Step 3"
   ]
  },
  {
   "cell_type": "markdown",
   "id": "7ec84233",
   "metadata": {},
   "source": [
    "Use the **len** method to return the number of words in the string.\n",
    "\n",
    "At this point, with the initial string, the count should be 92 for the original string."
   ]
  },
  {
   "cell_type": "code",
   "execution_count": 32,
   "id": "1bab5a38",
   "metadata": {},
   "outputs": [
    {
     "name": "stdout",
     "output_type": "stream",
     "text": [
      "92\n"
     ]
    }
   ],
   "source": [
    "print(len(words))"
   ]
  },
  {
   "cell_type": "markdown",
   "id": "8dfa50a9",
   "metadata": {},
   "source": [
    "# Step 4"
   ]
  },
  {
   "cell_type": "markdown",
   "id": "0c99dd9d",
   "metadata": {},
   "source": [
    "Use a set to compute the number of distinct words in the string.\n",
    "\n",
    "At this point, with the initial string, the count of distinct words should be 75."
   ]
  },
  {
   "cell_type": "code",
   "execution_count": 34,
   "id": "05d186ba",
   "metadata": {},
   "outputs": [
    {
     "data": {
      "text/plain": [
       "75"
      ]
     },
     "execution_count": 34,
     "metadata": {},
     "output_type": "execute_result"
    }
   ],
   "source": [
    "l2 = len(set(words))\n",
    "l2"
   ]
  },
  {
   "cell_type": "markdown",
   "id": "91287d66",
   "metadata": {},
   "source": [
    "# Step 5"
   ]
  },
  {
   "cell_type": "markdown",
   "id": "238ed960",
   "metadata": {},
   "source": [
    "The next step is to compute the frequency of the distinct words in our string.\n",
    "\n",
    "For practice, start with the list saved as w in the example code below. Note that some of the words in this list appear more than once, and we need a way to identify distinct words and count their frequency.\n",
    "\n",
    "To this end, the script should perform the following steps:\n",
    "\n",
    "1. Create an empty dictionary.\n",
    "* We use a dictionary here so that we can create key/value pairs where the key is the word itself and the value represents the number of times that word appears in the original list.\n",
    "2. Create a loop that does the following:\n",
    "  1. It looks at each word in the original list and compares that word to existing keys in the dictionary.\n",
    "  2. If the word does not match a key in the dictionary, it adds the item to the dictionary as a new key, with the value 1.\n",
    "  3. If the word already exists as a key in the dictionary, the value for that key increments by 1 to count the number of occurrences of the word.\n",
    "\n",
    "The output for the original starting list should look like:\n",
    "\n",
    "{'haythem': 2, 'is': 1, 'eating': 1, 'tacos.': 1, 'loves': 1, 'tacos': 1, '': 1, ':': 1}\n",
    "\n",
    "In the results, you will notice that \"tacos.\" is distinct from \"tacos\" because of the period. Also, both the colon item and the empty item appear in the results. We will ignore punctuation for now, and fix those problems in the next step."
   ]
  },
  {
   "cell_type": "code",
   "execution_count": 38,
   "id": "da537010",
   "metadata": {},
   "outputs": [
    {
     "name": "stdout",
     "output_type": "stream",
     "text": [
      "{'haythem': 2, 'is': 1, 'eating': 1, 'tacos.': 1, 'loves': 1, 'tacos': 1, '': 1, ':': 1}\n"
     ]
    }
   ],
   "source": [
    "#we define w as a list of words\n",
    "w = [\"haythem\",\"is\", \"eating\", \"tacos.\", \"haythem\", \"loves\", \"tacos\", \"\", \":\"]\n",
    "\n",
    "#we define an empty dictionary that will hold the token/frequeny key-value pair\n",
    "#  key:word, value:int that corresponds to the frequency of occurence\n",
    "freq_occur = dict()\n",
    "\n",
    "#your code goes here\n",
    "\n",
    "# Loop to access each word from words list w one-by-one\n",
    "for word in w:\n",
    "    if word in freq_occur:\n",
    "        freq_occur[word] += 1\n",
    "# If word not in the dictionary then adding new key-value in the dictionary\n",
    "    else:\n",
    "        freq_occur[word] = 1\n",
    "print(freq_occur)"
   ]
  },
  {
   "cell_type": "markdown",
   "id": "0ee6cf64",
   "metadata": {},
   "source": [
    "Using the pattern in the code above, compute the frequency count for each word in the original string s_lower.\n",
    "\n",
    "The dictionary should look like this when finished:\n",
    "\n",
    "{'imagine': 1, 'a': 3, 'vast': 1, 'sheet': 1, 'of': 5, 'paper': 1, 'on': 2, 'which': 1, 'straight': 1, 'lines,': 1, 'triangles,': 1, 'squares,': 1, 'pentagons,': 1, 'hexagons,': 1, 'and': 4, 'other': 1, 'figures,': 1, 'instead': 1, 'remaining': 1, 'fixed': 1, 'in': 2, 'their': 1, 'places,': 1, 'move': 1, 'freely': 1, 'about,': 1, 'or': 2, 'the': 2, 'surface,': 1, 'but': 2, 'without': 1, 'power': 1, 'rising': 1, 'above': 1, 'sinking': 1, 'below': 1, 'it,': 1, 'very': 1, 'much': 1, 'like': 1, 'shadows': 1, '-': 2, 'only': 1, 'hard': 1, 'with': 1, 'luminous': 1, 'edges': 1, 'you': 1, 'will': 1, 'then': 1, 'have': 2, 'pretty': 1, 'correct': 1, 'notion': 1, 'my': 2, 'country': 1, 'countrymen.': 1, 'alas,': 1, 'few': 1, 'years': 1, 'ago,': 1, 'i': 1, 'should': 1, 'said': 1, '\"my': 1, 'universe\":': 1, 'now': 1, 'mind': 1, 'has': 1, 'been': 1, 'opened': 1, 'to': 1, 'higher': 1, 'views': 1, 'things.': 1}"
   ]
  },
  {
   "cell_type": "code",
   "execution_count": 41,
   "id": "55d3e364",
   "metadata": {},
   "outputs": [
    {
     "name": "stdout",
     "output_type": "stream",
     "text": [
      "{':': 1}\n"
     ]
    }
   ],
   "source": [
    "word_freq = dict()\n",
    " \n",
    "#your code goes here\n",
    "\n",
    "# Converting the string s_lower to a list of strings\n",
    "words = s_lower.split()\n",
    "if word in word_freq:\n",
    "    word_freq[word] += 1\n",
    "else:\n",
    "    word_freq[word] = 1\n",
    " \n",
    "print(word_freq)"
   ]
  },
  {
   "cell_type": "markdown",
   "id": "be17a817",
   "metadata": {},
   "source": [
    "# Step 6: Remove Punctuation Marks"
   ]
  },
  {
   "cell_type": "markdown",
   "id": "cd302f4f",
   "metadata": {},
   "source": [
    "To fix the problems caused by punctuation, we need to remove the punctuation marks from the items in the list.\n",
    "\n",
    "Again, as a practice activity, we will start with the same list w from the previous exercise. The existing code performs the following steps:\n",
    "\n",
    "1. We import the Python string module, which includes all punctuation characters.\n",
    "2. We generate a list of punctuation characters from string.punctuation and print the list to verify that it includes the characters we want to exclude from our results.\n",
    "3. We define the list we want to start with.\n",
    "4. We create a new empty w_clean list that will hold the words after we have removed punctuation from each item in w.\n",
    "\n",
    "Complete this script so that it looks at each item in w and performs the following tasks:\n",
    "\n",
    "* If the item is empty, ignore it.\n",
    "* If the item includes only a punctuation mark, ignore it.\n",
    "* If the item includes a punctuation mark as the first character or as the last character, remove that character from the word and add the cleaned word to w_clean.\n",
    "* If it does not include punctuation, add it to the list w_clean as a separate token.\n",
    "\n",
    "The final version of w_clean should include seven items:\n",
    "\n",
    "['haythem', 'is', 'eating', 'tacos', 'haythem', 'loves', 'tacos']"
   ]
  },
  {
   "cell_type": "code",
   "execution_count": null,
   "id": "f8cca3d5",
   "metadata": {},
   "outputs": [],
   "source": [
    "import string #import the string module \n",
    "#use the built-in string.punctuation method to create a list of all punctuation marks\n",
    "punctuation_list =  list(string.punctuation)\n",
    "#display the punctuation_list\n",
    "print(punctuation_list)\n",
    " \n",
    "w = [\"haythem!\",\"is\",\"eating\",\"tacos.\",\".haythem\",\"loves\",\"tacos\",\"\",\":\"]\n",
    "w_clean = list()\n",
    "#do not change the code above this line.\n",
    " \n",
    "#your code goes here \n",
    " \n",
    "print(w_clean)\n",
    "print(len(w_clean))"
   ]
  },
  {
   "cell_type": "markdown",
   "id": "e9989c62",
   "metadata": {},
   "source": [
    "Use the same pattern to remove the punctuation from the initial s string and count the number of times each word appears in that string.\n",
    "\n",
    "The output should include each distinct word, regardless of case or punctuation, along with the number of times each word appears. Also display the number of distinct words in the string.\n",
    "\n",
    "The output for the original string should look like:\n",
    "\n",
    "['imagine', 'a', 'vast', 'sheet', 'of', 'paper', 'on', 'which', 'straight', 'lines', 'triangles', 'squares', 'pentagons', 'hexagons', 'and', 'other', 'figures', 'instead', 'of', 'remaining', 'fixed', 'in', 'their', 'places', 'move', 'freely', 'about', 'on', 'or', 'in', 'the', 'surface', 'but', 'without', 'the', 'power', 'of', 'rising', 'above', 'or', 'sinking', 'below', 'it', 'very', 'much', 'like', 'shadows', 'only', 'hard', 'and', 'with', 'luminous', 'edges', 'and', 'you', 'will', 'then', 'have', 'a', 'pretty', 'correct', 'notion', 'of', 'my', 'country', 'and', 'countrymen', 'alas', 'a', 'few', 'years', 'ago', 'i', 'should', 'have', 'said', 'my', 'universe\"', 'but', 'now', 'my', 'mind', 'has', 'been', 'opened', 'to', 'higher', 'views', 'of', 'things']\n",
    "90\n",
    "\n",
    "**Challenge:** Note that in the output above, universe\" still includes a quotation mark. Why? How can you fix it?\n",
    "\n",
    "The solution you come up with for this challenge should not remove punctuation marks inside words, like can't or well-known."
   ]
  },
  {
   "cell_type": "code",
   "execution_count": 43,
   "id": "7c6e89b1",
   "metadata": {},
   "outputs": [
    {
     "name": "stdout",
     "output_type": "stream",
     "text": [
      "['imagine', 'a', 'vast', 'sheet', 'of', 'paper', 'on', 'which', 'straight', 'lines,', 'triangles,', 'squares,', 'pentagons,', 'hexagons,', 'and', 'other', 'figures,', 'instead', 'of', 'remaining', 'fixed', 'in', 'their', 'places,', 'move', 'freely', 'about,', 'on', 'or', 'in', 'the', 'surface,', 'but', 'without', 'the', 'power', 'of', 'rising', 'above', 'or', 'sinking', 'below', 'it,', 'very', 'much', 'like', 'shadows', '-', 'only', 'hard', 'and', 'with', 'luminous', 'edges', '-', 'and', 'you', 'will', 'then', 'have', 'a', 'pretty', 'correct', 'notion', 'of', 'my', 'country', 'and', 'countrymen.', 'alas,', 'a', 'few', 'years', 'ago,', 'i', 'should', 'have', 'said', '\"my', 'universe\":', 'but', 'now', 'my', 'mind', 'has', 'been', 'opened', 'to', 'higher', 'views', 'of', 'things.']\n",
      "[]\n",
      "0\n"
     ]
    }
   ],
   "source": [
    "import string #import the string module \n",
    "#use the string.punctuation built-in python to create a list of all punctuations\n",
    "punctuation_list =  list(string.punctuation)  #do not delete this\n",
    " \n",
    "print(words)\n",
    "w_clean = list()\n",
    " \n",
    "#your code goes here \n",
    " \n",
    "print(w_clean)\n",
    "print(len(w_clean))"
   ]
  },
  {
   "cell_type": "markdown",
   "id": "f0c5c3e8",
   "metadata": {},
   "source": [
    "# Step 7"
   ]
  },
  {
   "cell_type": "markdown",
   "id": "aefa156d",
   "metadata": {},
   "source": [
    "Finally, create a single script that performs all of the following operations on the original 's' string.\n",
    "\n",
    "Convert the string to lowercase characters.\n",
    "Split the lowercase string into individual words.\n",
    "Remove the punctuation from the lowercase words. Assume that all punctuation is either the first character or the last character of each item in the list.\n",
    "Perform a count analysis on the words without punctuation characters.\n",
    "Display the dictionary with the word counts and the number of distinct words in the original string."
   ]
  },
  {
   "cell_type": "code",
   "execution_count": 44,
   "id": "8ac0089e",
   "metadata": {},
   "outputs": [
    {
     "name": "stdout",
     "output_type": "stream",
     "text": [
      "Word Dictioary:\n",
      " {'imagine': 1, 'a': 3, 'vast': 1, 'sheet': 1, 'of': 5, 'paper': 1, 'on': 2, 'which': 1, 'straight': 1, 'lines': 1, 'triangles': 1, 'squares': 1, 'pentagons': 1, 'hexagons': 1, 'and': 4, 'other': 1, 'figures': 1, 'instead': 1, 'remaining': 1, 'fixed': 1, 'in': 2, 'their': 1, 'places': 1, 'move': 1, 'freely': 1, 'about': 1, 'or': 2, 'the': 2, 'surface': 1, 'but': 2, 'without': 1, 'power': 1, 'rising': 1, 'above': 1, 'sinking': 1, 'below': 1, 'it': 1, 'very': 1, 'much': 1, 'like': 1, 'shadows': 1, 'only': 1, 'hard': 1, 'with': 1, 'luminous': 1, 'edges': 1, 'you': 1, 'will': 1, 'then': 1, 'have': 2, 'pretty': 1, 'correct': 1, 'notion': 1, 'my': 3, 'country': 1, 'countrymen': 1, 'alas': 1, 'few': 1, 'years': 1, 'ago': 1, 'i': 1, 'should': 1, 'said': 1, 'universe': 1, 'now': 1, 'mind': 1, 'has': 1, 'been': 1, 'opened': 1, 'to': 1, 'higher': 1, 'views': 1, 'things': 1}\n",
      "Distinct words in s: 73\n"
     ]
    }
   ],
   "source": [
    "# STEP 1\n",
    "# Converting s to lowercase\n",
    "s = s.lower()\n",
    "\n",
    "# STEP 2\n",
    "# Spliting s into words separated by space as a list\n",
    "words = s.split()\n",
    "\n",
    "# STEP 3\n",
    "# Creating a list of punctuation from \"string\" module\n",
    "punctuation_list = list(string.punctuation)\n",
    "\n",
    "# Creating a string s without punctuation marks.\n",
    "for element in s:\n",
    "  if element in punctuation_list:\n",
    "    s = s.replace(element, \"\")\n",
    "    \n",
    "words = s.split()\n",
    "\n",
    "wordDict = {}\n",
    "\n",
    "for word in words:\n",
    "  if word in wordDict:\n",
    "    wordDict[word] += 1\n",
    "  else:\n",
    "    wordDict[word] = 1\n",
    "\n",
    "distinct_words = len(wordDict)\n",
    "\n",
    "print(\"Word Dictioary:\\n\", wordDict)\n",
    "print(\"Distinct words in s:\", distinct_words)"
   ]
  },
  {
   "cell_type": "code",
   "execution_count": null,
   "id": "f2be8f1b",
   "metadata": {},
   "outputs": [],
   "source": []
  }
 ],
 "metadata": {
  "kernelspec": {
   "display_name": "Python 3 (ipykernel)",
   "language": "python",
   "name": "python3"
  },
  "language_info": {
   "codemirror_mode": {
    "name": "ipython",
    "version": 3
   },
   "file_extension": ".py",
   "mimetype": "text/x-python",
   "name": "python",
   "nbconvert_exporter": "python",
   "pygments_lexer": "ipython3",
   "version": "3.9.12"
  }
 },
 "nbformat": 4,
 "nbformat_minor": 5
}
