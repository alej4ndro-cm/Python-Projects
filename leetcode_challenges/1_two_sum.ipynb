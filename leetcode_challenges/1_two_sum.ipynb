{
 "cells": [
  {
   "cell_type": "markdown",
   "metadata": {},
   "source": [
    "### Two Sum\n",
    "\n",
    "Given an array of integers $nums$ and an integer $target$, return indices of the two numbers such that they add up to $target$.<br>\n",
    "You may assume that each input would have exactly one solution, and you may not use the same element twice.<br>\n",
    "You can return the answer in any order.<br>\n",
    "\n",
    "<b>Example 1:</b>\n",
    "\n",
    "Input: nums = [2,7,11,15], target = 9 <br>\n",
    "Output: [0,1] <br>\n",
    "Explanation: Because nums[0] + nums[1] == 9, we return [0, 1]. <br>\n",
    "\n",
    "<b>Example 2:</b>\n",
    "\n",
    "Input: nums = [3,2,4], target = 6<br>\n",
    "Output: [1,2]<br>\n",
    "\n",
    "<b>Example 3:</b>\n",
    "\n",
    "Input: nums = [3,3], target = 6\n",
    "Output: [0,1]\n",
    "\n",
    "<b>Constraints:</b>\n",
    "\n",
    "- $ 2 <= nums.length <= 104$ <br>\n",
    "- $ 109 <= nums[i] <= 109 $<br>\n",
    "- $ 109 <= target <= 109 $<br>\n",
    "- Only one valid answer exists.\n",
    " \n",
    "\n",
    "Follow-up: Can you come up with an algorithm that is less than $O(n^2)$ time complexity?"
   ]
  },
  {
   "cell_type": "code",
   "execution_count": 8,
   "metadata": {},
   "outputs": [
    {
     "name": "stdout",
     "output_type": "stream",
     "text": [
      "0 2\n",
      "1 7\n",
      "2 11\n",
      "3 15\n"
     ]
    }
   ],
   "source": [
    "#nums = [2,7,11,15]\n",
    "#target = 9\n",
    "\n",
    "class Solution(object):\n",
    "    def twoSum(self, nums, target):\n",
    "        for i, value in enumerate(nums):\n",
    "            print(i,value)\n",
    "\n",
    "nums = [2,7,11,15]\n",
    "target = 9\n",
    "\n",
    "my_object = Solution()\n",
    "solution = my_object.twoSum(nums, target)"
   ]
  },
  {
   "cell_type": "code",
   "execution_count": 15,
   "metadata": {},
   "outputs": [
    {
     "name": "stdout",
     "output_type": "stream",
     "text": [
      "[0, 7]\n"
     ]
    }
   ],
   "source": [
    "#nums = [2,7,11,15]\n",
    "#target = 9\n",
    "\n",
    "class Solution(object):\n",
    "    def twoSum(self, nums, target):\n",
    "        for i, value in enumerate(nums):\n",
    "            complement = target - value\n",
    "            if complement in nums:\n",
    "                return [i, complement] \n",
    "\n",
    "nums = [2,7,11,15]\n",
    "target = 9\n",
    "\n",
    "my_obj = Solution()\n",
    "result = my_obj.twoSum(nums, target)\n",
    "print(result)"
   ]
  },
  {
   "cell_type": "code",
   "execution_count": 23,
   "metadata": {},
   "outputs": [
    {
     "name": "stdout",
     "output_type": "stream",
     "text": [
      "{4: 0}\n",
      "{4: 0, 3: 1}\n",
      "{4: 0, 3: 1, 1: 2}\n",
      "{4: 0, 3: 1, 1: 2, 0: 3}\n",
      "{4: 0, 3: 1, 1: 2, 0: 3, 2: 4}\n",
      "[4, 5]\n"
     ]
    }
   ],
   "source": [
    "#nums = [2,7,11,15]\n",
    "#target = 9\n",
    "\n",
    "class Solution(object):\n",
    "    def twoSum(self, nums, target):\n",
    "        hash_table = {}\n",
    "        for nums_index, nums_value in enumerate(nums):\n",
    "            complement = target - nums_value\n",
    "            if complement in hash_table:\n",
    "                return [hash_table[complement], nums_index] \n",
    "            hash_table[nums_value] = nums_index\n",
    "            print(hash_table)\n",
    "\n",
    "#nums = [2,7,11,15]\n",
    "nums = [4,3,1,0,2,7]\n",
    "target = 9\n",
    "\n",
    "my_obj = Solution()\n",
    "result = my_obj.twoSum(nums, target)\n",
    "print(result)"
   ]
  }
 ],
 "metadata": {
  "kernelspec": {
   "display_name": "Python 3",
   "language": "python",
   "name": "python3"
  },
  "language_info": {
   "codemirror_mode": {
    "name": "ipython",
    "version": 3
   },
   "file_extension": ".py",
   "mimetype": "text/x-python",
   "name": "python",
   "nbconvert_exporter": "python",
   "pygments_lexer": "ipython3",
   "version": "3.12.2"
  }
 },
 "nbformat": 4,
 "nbformat_minor": 2
}
